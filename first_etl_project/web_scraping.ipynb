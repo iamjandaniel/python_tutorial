{
 "cells": [
  {
   "cell_type": "code",
   "execution_count": 1,
   "metadata": {},
   "outputs": [
    {
     "name": "stdout",
     "output_type": "stream",
     "text": [
      "<Response [200]>\n"
     ]
    }
   ],
   "source": [
    "# This web scraping project is made to get specific refrigerators\n",
    "# that'll meet the criteria of being an inverter type\n",
    "# getting its name,price,ref type, link\n",
    "# and storing the list to a csv file\n",
    "\n",
    "#pip install kaggle\n",
    "# import kaggle\n",
    "import requests\n",
    "import pandas as pd\n",
    "\n",
    "request_count = 0\n",
    "# Get the URL of the dataset\n",
    "url = \"https://www.abenson.com/home-appliances/refrigerator.html\"\n",
    "user_agent = \"\" #insert user-agent\n",
    "# Create a request object\n",
    "request = requests.get(url, headers={\"User-Agent\": user_agent})\n",
    "print(request)\n",
    "request_count += 1"
   ]
  },
  {
   "cell_type": "code",
   "execution_count": 2,
   "metadata": {},
   "outputs": [],
   "source": [
    "#Convert request content to html readable text (Main page)\n",
    "from bs4 import BeautifulSoup\n",
    "html_data = BeautifulSoup(request.content, \"html.parser\")\n"
   ]
  },
  {
   "cell_type": "code",
   "execution_count": 3,
   "metadata": {},
   "outputs": [
    {
     "name": "stdout",
     "output_type": "stream",
     "text": [
      "['https://www.abenson.com/lg-rvt-b083wb.html', 'https://www.abenson.com/lg-rvt-b101wb.html', 'https://www.abenson.com/lg-rvt-b145dg.html', 'https://www.abenson.com/lg-rvs-b245mc.html', 'https://www.abenson.com/gr-b202sqbb.html', 'https://www.abenson.com/lg-rvs-q245ns.html', 'https://www.abenson.com/lg-gr-x22ftqll.html', 'https://www.abenson.com/panasonic-nr-bv320xsph.html', 'https://www.abenson.com/fujidenzo-rdd-60s.html', 'https://www.abenson.com/toshiba-gr-rs682we.html', 'https://www.abenson.com/samsung-rt22farbds9.html', 'https://www.abenson.com/condura-csd510mni.html', 'https://www.abenson.com/samsung-rb27n4020s9-tc.html', 'https://www.abenson.com/panasonic-nr-bp230vs.html', 'https://www.abenson.com/rdd-35t.html', 'https://www.abenson.com/kelvinator-ksd157sa.html', 'https://www.abenson.com/condura-ctd700mni-a.html', 'https://www.abenson.com/fujidenzo-ifcg-55pdfsl.html', 'https://www.abenson.com/gr-v204slbt.html', 'https://www.abenson.com/midea-fp-20rwc096lmnv-t1.html', 'https://www.abenson.com/rt20farvdsa.html', 'https://www.abenson.com/panasonic-nr-bp272vd.html', 'https://www.abenson.com/panasonic-nr-aq301fb.html', 'https://www.abenson.com/fujidenzo-rdd-50s.html']\n"
     ]
    }
   ],
   "source": [
    "product_tags = html_data.find_all(\"a\", class_=\"product photo product-item-photo\")\n",
    "links = []\n",
    "\n",
    "for product_tag in product_tags:\n",
    "    link = product_tag.get(\"href\")\n",
    "    links.append(link)\n",
    "\n",
    "print(links)\n",
    "\n"
   ]
  },
  {
   "cell_type": "code",
   "execution_count": 4,
   "metadata": {},
   "outputs": [],
   "source": [
    "#Convert request content to html readable text (Sub pages)\n",
    "import re\n",
    "pattern = re.compile(r'.*inverter.*', re.IGNORECASE)\n",
    "door_pattern = re.compile(r'.*door.*', re.IGNORECASE)\n",
    "\n",
    "inverter_products = {}\n",
    "names = []\n",
    "price = []\n",
    "horsepower = []\n",
    "count = 0\n",
    "for link in links:\n",
    "    product = requests.get(link, headers={\"User-Agent\":user_agent})\n",
    "    request_count += 1\n",
    "    product_data = BeautifulSoup(product.content, \"html.parser\")\n",
    "    div_el = product_data.find_all(\"div\", class_=\"PDP_highlights__body11\", string=pattern)\n",
    "    \n",
    "    if(div_el != None):\n",
    "        name_el = product_data.find(\"h1\", class_=\"page-title\")\n",
    "        if(name_el != None):\n",
    "            name = name_el.text.strip()\n",
    "        price_el = product_data.find(\"span\", class_=\"price\")\n",
    "        if(price_el != None):\n",
    "            price = price_el.text.strip()\n",
    "        num_door_el = product_data.find(\"div\", class_=\"PDP_highlights__body11\", string=door_pattern)\n",
    "        if(num_door_el != None):\n",
    "            num_door = num_door_el.text.strip()\n",
    "\n",
    "        inverter_products[count] = {\n",
    "            \"name\": name,\n",
    "            \"price\": price,\n",
    "            \"refrigerator type\": num_door,\n",
    "            \"url\": link\n",
    "        }\n",
    "    count += 1\n",
    "\n",
    "\n"
   ]
  },
  {
   "cell_type": "code",
   "execution_count": 5,
   "metadata": {},
   "outputs": [],
   "source": [
    "df = pd.DataFrame.from_dict(inverter_products, orient=\"index\")\n",
    "df.to_csv(\"ref_options_list.csv\", index=False)"
   ]
  },
  {
   "cell_type": "code",
   "execution_count": 6,
   "metadata": {},
   "outputs": [
    {
     "name": "stdout",
     "output_type": "stream",
     "text": [
      "25\n"
     ]
    }
   ],
   "source": [
    "print(request_count)"
   ]
  },
  {
   "cell_type": "code",
   "execution_count": null,
   "metadata": {},
   "outputs": [],
   "source": []
  }
 ],
 "metadata": {
  "kernelspec": {
   "display_name": "Python 3",
   "language": "python",
   "name": "python3"
  },
  "language_info": {
   "codemirror_mode": {
    "name": "ipython",
    "version": 3
   },
   "file_extension": ".py",
   "mimetype": "text/x-python",
   "name": "python",
   "nbconvert_exporter": "python",
   "pygments_lexer": "ipython3",
   "version": "3.11.3"
  },
  "orig_nbformat": 4
 },
 "nbformat": 4,
 "nbformat_minor": 2
}
